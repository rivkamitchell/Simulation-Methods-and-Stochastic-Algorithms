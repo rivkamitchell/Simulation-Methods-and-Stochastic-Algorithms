{
 "cells": [
  {
   "cell_type": "code",
   "execution_count": 18,
   "metadata": {},
   "outputs": [],
   "source": [
    "import numpy as np\n",
    "import math\n",
    "\n",
    "import european_call as ec"
   ]
  },
  {
   "cell_type": "code",
   "execution_count": 19,
   "metadata": {},
   "outputs": [
    {
     "name": "stdout",
     "output_type": "stream",
     "text": [
      "Analytic Value:  10.450583572185565\n"
     ]
    }
   ],
   "source": [
    "# 4. For the case of Geometric Brownian Motion and a European call option\n",
    "# with parameters, r = 0.05, sigma = 0.2, T = 1, S_0 = 100, K = 100, investigate\n",
    "# the following forms of variance reduction:\n",
    "\n",
    "r = 0.05\n",
    "sigma = 0.2\n",
    "S_0 = 100\n",
    "K = 100\n",
    "T = 1\n",
    "\n",
    "N = 1000\n",
    "\n",
    "analytic_value = ec.european_call(r, sigma, T, S_0, K, 'value')\n",
    "\n",
    "print 'Analytic Value: ', analytic_value"
   ]
  },
  {
   "cell_type": "code",
   "execution_count": 20,
   "metadata": {},
   "outputs": [],
   "source": [
    "# payoff function\n",
    "def f_W(r, sigma, T, S_0, K, W):\n",
    "    W_T = [x*math.sqrt(T) for x in W]\n",
    "    S_T = [S_0*math.exp((r - sigma**2/2)*T + sigma*w) for w in W_T]\n",
    "    f_S = [math.exp(-r*T)*max(s-K, 0) for s in S_T]\n",
    "    return f_S"
   ]
  },
  {
   "cell_type": "code",
   "execution_count": 38,
   "metadata": {},
   "outputs": [
    {
     "name": "stdout",
     "output_type": "stream",
     "text": [
      "Monte Carlo Variance:  216.86176749420693\n"
     ]
    }
   ],
   "source": [
    "# MC Estimation\n",
    "\n",
    "f = []\n",
    "for i in range(0,N):\n",
    "    W = np.random.standard_normal(N)\n",
    "    payoff = f_W(r, sigma, T, S_0, K, W)\n",
    "    f.append(payoff)\n",
    "\n",
    "MC_variance = np.var(f)\n",
    "\n",
    "print 'Monte Carlo Variance: ', MC_variance"
   ]
  },
  {
   "cell_type": "code",
   "execution_count": 39,
   "metadata": {},
   "outputs": [
    {
     "name": "stdout",
     "output_type": "stream",
     "text": [
      "Estimated Call Option Value:  10.43727014658852\n",
      "Antithetic Variables Variance:  53.90218949565772\n",
      "Correlation:  -0.5010800649713179\n",
      "Variance reduction:  75.05400324856589 %\n"
     ]
    }
   ],
   "source": [
    "# 4. a) First, try antithetic variables using (f(W) + f(-W))/2 where W is the \n",
    "# value of the underlying Brownian motion at maturity\n",
    "\n",
    "W = np.random.standard_normal(10**6)\n",
    "\n",
    "f_pos = f_W(r, sigma, T, S_0, K, W)\n",
    "f_neg = f_W(r, sigma, T, S_0, K, -1*W)\n",
    "f = [0.5*(f_pos[i] + f_neg[i]) for i in range(0,10**6)]\n",
    "\n",
    "estimated_value = np.mean(f)\n",
    "anti_variance = np.var(f)\n",
    "correlation = np.corrcoef(f_pos, f_neg)[0][1]\n",
    "var_reduction = 100*(1 - 0.5*(1 + correlation))\n",
    "\n",
    "print 'Estimated Call Option Value: ', estimated_value\n",
    "\n",
    "print 'Antithetic Variables Variance: ', anti_variance\n",
    "\n",
    "print 'Correlation: ', correlation\n",
    "\n",
    "print 'Variance reduction: ', var_reduction, '%'\n",
    "\n",
    "# What is the estimated correlation between f(W) and f(-W)? How much variance \n",
    "# reduction does this give? \n",
    "\n",
    "# There is some variance reduction. It is not extremely substantial."
   ]
  },
  {
   "cell_type": "code",
   "execution_count": 40,
   "metadata": {},
   "outputs": [],
   "source": [
    "# 4. b) Second, try using exp(-rT)S(T) as a control variate, noting that its \n",
    "# expected value is S(0). Again, how much variance reduction does this give?\n",
    "\n",
    "# Control Variate\n",
    "def g_W(r, sigma, T, S_0, K, W):\n",
    "    W_T = [x*math.sqrt(T) for x in W]\n",
    "    S_T = [S_0*math.exp((r - sigma**2/2)*T + sigma*w) for w in W_T]        \n",
    "    g_S = [math.exp(-r*T)*S for S in S_T]\n",
    "    return g_S"
   ]
  },
  {
   "cell_type": "code",
   "execution_count": 46,
   "metadata": {},
   "outputs": [
    {
     "name": "stdout",
     "output_type": "stream",
     "text": [
      "Estimated Call Option Value:  10.44646557386335\n",
      "Control Variates Variance:  31.529817089103567\n",
      "Correlation:  0.9244757917425168\n",
      "Variance reduction:  85.46554895179533 %\n"
     ]
    }
   ],
   "source": [
    "W = np.random.standard_normal(10**6)\n",
    "\n",
    "g = g_W(r, sigma, T, S_0, K, W)\n",
    "f = f_W(r, sigma, T, S_0, K, W)\n",
    "    \n",
    "covariance = np.cov(f,g)[0][1]\n",
    "min_val = covariance/np.var(g)\n",
    "\n",
    "f_hat = f - min_val*(np.array(g) - S_0)\n",
    "\n",
    "variance = np.var(f_hat)\n",
    "estimated_value = np.mean(f_hat) \n",
    "correlation = np.corrcoef(f, g)[0][1]\n",
    "var_reduction = 100*(1 - (1 - correlation**2))\n",
    "\n",
    "print 'Estimated Call Option Value: ', estimated_value\n",
    "\n",
    "print 'Control Variates Variance: ', variance\n",
    "\n",
    "print 'Correlation: ', correlation\n",
    "\n",
    "print 'Variance reduction: ', var_reduction, '%'\n"
   ]
  },
  {
   "cell_type": "code",
   "execution_count": null,
   "metadata": {},
   "outputs": [],
   "source": []
  },
  {
   "cell_type": "code",
   "execution_count": null,
   "metadata": {},
   "outputs": [],
   "source": []
  }
 ],
 "metadata": {
  "kernelspec": {
   "display_name": "Python 2",
   "language": "python",
   "name": "python2"
  },
  "language_info": {
   "codemirror_mode": {
    "name": "ipython",
    "version": 2
   },
   "file_extension": ".py",
   "mimetype": "text/x-python",
   "name": "python",
   "nbconvert_exporter": "python",
   "pygments_lexer": "ipython2",
   "version": "2.7.16"
  }
 },
 "nbformat": 4,
 "nbformat_minor": 2
}
