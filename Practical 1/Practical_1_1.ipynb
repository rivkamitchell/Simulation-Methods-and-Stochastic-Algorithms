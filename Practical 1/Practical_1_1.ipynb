{
 "cells": [
  {
   "cell_type": "code",
   "execution_count": 1,
   "metadata": {},
   "outputs": [],
   "source": [
    "import numpy as np\n",
    "import time"
   ]
  },
  {
   "cell_type": "code",
   "execution_count": 2,
   "metadata": {},
   "outputs": [
    {
     "ename": "SyntaxError",
     "evalue": "Missing parentheses in call to 'print'. Did you mean print(...)? (1286188173.py, line 6)",
     "output_type": "error",
     "traceback": [
      "\u001b[0;36m  File \u001b[0;32m\"/var/folders/zx/lk64nk512bv6q1cs6p1dpfq40000gn/T/ipykernel_201/1286188173.py\"\u001b[0;36m, line \u001b[0;32m6\u001b[0m\n\u001b[0;31m    print 'Uniform Mean: ', u_mean\u001b[0m\n\u001b[0m    ^\u001b[0m\n\u001b[0;31mSyntaxError\u001b[0m\u001b[0;31m:\u001b[0m Missing parentheses in call to 'print'. Did you mean print(...)?\n"
     ]
    }
   ],
   "source": [
    "# 1. a) Uniform\n",
    "uniform = np.random.uniform(0,1,10**6)\n",
    "u_mean = np.mean(uniform)\n",
    "u_variance = np.var(uniform)\n",
    "\n",
    "print 'Uniform Mean: ', u_mean\n",
    "print 'Uniform Variance: ', u_variance"
   ]
  },
  {
   "cell_type": "code",
   "execution_count": 3,
   "metadata": {},
   "outputs": [
    {
     "ename": "SyntaxError",
     "evalue": "Missing parentheses in call to 'print'. Did you mean print(...)? (2805400697.py, line 6)",
     "output_type": "error",
     "traceback": [
      "\u001b[0;36m  File \u001b[0;32m\"/var/folders/zx/lk64nk512bv6q1cs6p1dpfq40000gn/T/ipykernel_201/2805400697.py\"\u001b[0;36m, line \u001b[0;32m6\u001b[0m\n\u001b[0;31m    print 'Standard Normal Mean: ', n_mean\u001b[0m\n\u001b[0m    ^\u001b[0m\n\u001b[0;31mSyntaxError\u001b[0m\u001b[0;31m:\u001b[0m Missing parentheses in call to 'print'. Did you mean print(...)?\n"
     ]
    }
   ],
   "source": [
    "# 1. a) Normal\n",
    "normal = np.random.standard_normal(10**6)\n",
    "n_mean = np.mean(normal)\n",
    "n_variance = np.var(normal)\n",
    "\n",
    "print 'Standard Normal Mean: ', n_mean\n",
    "print 'Standard Normal Variance: ', n_variance"
   ]
  },
  {
   "cell_type": "code",
   "execution_count": 4,
   "metadata": {},
   "outputs": [],
   "source": [
    "sigma = [[4,1],[1,4]]"
   ]
  },
  {
   "cell_type": "code",
   "execution_count": 6,
   "metadata": {},
   "outputs": [
    {
     "name": "stdout",
     "output_type": "stream",
     "text": [
      "Cholesky Factorisation L: \n",
      "[[2.         0.        ]\n",
      " [0.5        1.93649167]]\n",
      "[[-2.60681321  1.85888382 -0.23338916 ... -4.09470163  0.39032873\n",
      "   0.35692055]\n",
      " [ 1.33497182  1.81180358 -1.83651032 ... -2.10675603 -2.07763906\n",
      "  -0.44590345]]\n",
      "Means:  -0.00010357308024116735 ,  4.0955869688506944e-05\n",
      "Covariance Matrix: \n",
      "[[3.99657193 0.99880655]\n",
      " [0.99880655 4.00515778]]\n"
     ]
    }
   ],
   "source": [
    "# 1. b) Cholesky factorisation\n",
    "\n",
    "L_cho = np.linalg.cholesky(sigma)\n",
    "print ('Cholesky Factorisation L: ')\n",
    "print(L_cho)\n",
    "Z = [np.random.standard_normal(10**6), np.random.standard_normal(10**6)]\n",
    "X_cho = np.matmul(L_cho,Z)\n",
    "print(X_cho)\n",
    "(X0_mean, X1_mean) = (np.mean(X_cho[0]), np.mean(X_cho[1]))\n",
    "\n",
    "covariance_cho = np.cov(X_cho[0], X_cho[1])\n",
    "\n",
    "print('Means: ', X0_mean, ', ', X1_mean)\n",
    "print('Covariance Matrix: ')\n",
    "print(covariance_cho)\n"
   ]
  },
  {
   "cell_type": "code",
   "execution_count": 17,
   "metadata": {},
   "outputs": [
    {
     "name": "stdout",
     "output_type": "stream",
     "text": [
      "PCA Factorisation L:\n",
      "[[ 1.22474487  1.58113883]\n",
      " [-1.22474487  1.58113883]]\n",
      "Means:  0.001424828312826174 ,  -0.0019708790522887376\n",
      "Covariance Matrix: \n",
      "[[3.99837386 0.99518438]\n",
      " [0.99518438 3.99930917]]\n"
     ]
    }
   ],
   "source": [
    "# 1. c) PCA factorisation\n",
    "\n",
    "eigen = np.linalg.eig(sigma)\n",
    "\n",
    "U = np.transpose(eigen[1])\n",
    "U_inverse = np.linalg.inv(U)\n",
    "V = np.matmul(np.matmul(U_inverse, sigma), U)\n",
    "root_V = np.asmatrix([[V[0][0]**0.5,0], [0,V[1][1]**0.5]])\n",
    "L_PCA = np.matmul(U, root_V)\n",
    "\n",
    "print 'PCA Factorisation L:'\n",
    "print(L_PCA)\n",
    "\n",
    "X_PCA = np.array(np.matmul(L_PCA, Z))\n",
    "\n",
    "(X0_mean, X1_mean) = (np.mean(X_PCA[0]), np.mean(X_PCA[1]))\n",
    "\n",
    "covariance_PCA = np.cov(X_PCA[0],X_PCA[1])\n",
    "\n",
    "print'Means: ', X0_mean, ', ', X1_mean\n",
    "print'Covariance Matrix: '\n",
    "print(covariance_PCA)"
   ]
  },
  {
   "cell_type": "code",
   "execution_count": 18,
   "metadata": {},
   "outputs": [
    {
     "name": "stdout",
     "output_type": "stream",
     "text": [
      "Number of pairs generated:  7809490\n"
     ]
    }
   ],
   "source": [
    "# 1. d) Repeat to generate as many pairs as you can generate in 1 min\n",
    "def generate_pairs():\n",
    "    pairs = []\n",
    "    end_time = time.time() + 60\n",
    "    while(time.time() < end_time):\n",
    "        Z = [np.random.standard_normal(), np.random.standard_normal()]\n",
    "        pairs.append(np.array(np.matmul(L_PCA, Z)))\n",
    "    return len(pairs)\n",
    "\n",
    "num_pairs = generate_pairs()\n",
    "print 'Number of pairs generated: ', num_pairs"
   ]
  },
  {
   "cell_type": "code",
   "execution_count": null,
   "metadata": {},
   "outputs": [],
   "source": []
  }
 ],
 "metadata": {
  "kernelspec": {
   "display_name": "Python 3 (ipykernel)",
   "language": "python",
   "name": "python3"
  },
  "language_info": {
   "codemirror_mode": {
    "name": "ipython",
    "version": 3
   },
   "file_extension": ".py",
   "mimetype": "text/x-python",
   "name": "python",
   "nbconvert_exporter": "python",
   "pygments_lexer": "ipython3",
   "version": "3.10.0"
  }
 },
 "nbformat": 4,
 "nbformat_minor": 2
}
