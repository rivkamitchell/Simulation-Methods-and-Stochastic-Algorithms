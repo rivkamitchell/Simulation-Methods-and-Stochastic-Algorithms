{
 "cells": [
  {
   "cell_type": "code",
   "execution_count": 1,
   "metadata": {},
   "outputs": [],
   "source": [
    "import numpy as np\n",
    "import math\n",
    "import scipy\n",
    "\n",
    "import matplotlib.pyplot as plt\n",
    "import european_call as ec"
   ]
  },
  {
   "cell_type": "markdown",
   "metadata": {},
   "source": [
    "Question 2: Weak convergence"
   ]
  },
  {
   "cell_type": "code",
   "execution_count": 2,
   "metadata": {},
   "outputs": [],
   "source": [
    "# Problem parameters and exact solution\n",
    "\n",
    "r = 0.05\n",
    "sigma = 0.5\n",
    "T = 1\n",
    "S_0 = 100\n",
    "K = 110\n",
    "\n",
    "# Exact solution\n",
    "V_e = ec.european_call(r, sigma, T, S_0, K, 'value')\n",
    "\n",
    "# Set the seed\n",
    "np.random.seed(0)"
   ]
  },
  {
   "cell_type": "code",
   "execution_count": 3,
   "metadata": {},
   "outputs": [],
   "source": [
    "# Monte Carlo simulation comparing to exact soluton"
   ]
  },
  {
   "cell_type": "code",
   "execution_count": 4,
   "metadata": {},
   "outputs": [],
   "source": [
    "# Define M for total number of Monte Carlo paths, and M_2 for number of paths at a time\n",
    "M = int(1e+7)\n",
    "M_2 = int(1e+4)\n",
    "\n",
    "# Define the steps\n",
    "num_steps = int(M/M_2)\n",
    "steps = [1 + i*M_2 for i in range(0, num_steps)]"
   ]
  },
  {
   "cell_type": "code",
   "execution_count": 5,
   "metadata": {},
   "outputs": [],
   "source": [
    "# Initialize hh, err_1, err_2\n",
    "hh = []\n",
    "err_1 = []\n",
    "err_2 = []\n",
    "\n",
    "# running the code for different values of h\n",
    "for p in range(1,7):\n",
    "    N = 2**p\n",
    "    h = T/N\n",
    "    \n",
    "    sum_1 = 0\n",
    "    sum_2 = 0\n",
    "    \n",
    "    for m in steps:\n",
    "        m_2 = min(M_2, M - m + 1)\n",
    "        S = S_0*np.ones(m_2)          # Initial value for all paths\n",
    "        \n",
    "        # Repeatedly we move by dW steps taken from the normal distribution\n",
    "        for n in range(1, N+1):\n",
    "            dW = math.sqrt(h)*np.random.standard_normal(m_2)\n",
    "            S = np.multiply(S, 1 + r*h + sigma*dW)\n",
    "        \n",
    "        P = np.multiply(math.exp(-r*T), np.maximum(S-K, np.zeros(m_2)))\n",
    "        P_squared = np.multiply(P,P)\n",
    "            \n",
    "        sum_1 = sum_1 + np.sum(P)\n",
    "        sum_2 = sum_2 + np.sum(P_squared)\n",
    "    \n",
    "    # Error calculations\n",
    "    V = sum_1/M\n",
    "    sd = math.sqrt((sum_2/M - (sum_1/M)**2)/(M-1))\n",
    "    \n",
    "    hh.append(h)\n",
    "    err_1.append(abs(V - V_e))\n",
    "    err_2.append(3*sd)"
   ]
  },
  {
   "cell_type": "code",
   "execution_count": 6,
   "metadata": {},
   "outputs": [
    {
     "data": {
      "image/png": "[encoded data removed]",
      "text/plain": [
       "<Figure size 432x288 with 1 Axes>"
      ]
     },
     "metadata": {
      "needs_background": "light"
     },
     "output_type": "display_data"
    }
   ],
   "source": [
    "# plotting\n",
    "fig = plt.figure()\n",
    "ax = fig.add_subplot(1,1,1)\n",
    "ax.loglog(hh, err_1, color = 'blue', marker = 'o', label = 'Weak error')\n",
    "ax.loglog(hh, err_2, color = 'red', marker = 'o', label = 'MC error')\n",
    "\n",
    "ax.set_xlabel('h')\n",
    "ax.set_ylabel('Error')\n",
    "ax.set_title('Weak convergence -- comparison to exact solution')\n",
    "ax.legend()\n",
    "\n",
    "plt.show()"
   ]
  },
  {
   "cell_type": "code",
   "execution_count": 7,
   "metadata": {},
   "outputs": [],
   "source": [
    "# Monte Carlo simulation comparing 2h simulation"
   ]
  },
  {
   "cell_type": "code",
   "execution_count": 8,
   "metadata": {},
   "outputs": [],
   "source": [
    "# Initialize error arrays \n",
    "hh = []\n",
    "err_1 = []\n",
    "err_2 = []\n",
    "\n",
    "# Running the code for different values of h\n",
    "for p in range(1,8):\n",
    "    N = 2**p\n",
    "    h = T/N\n",
    "    \n",
    "    sum_1 = 0\n",
    "    sum_2 = 0\n",
    "    \n",
    "    for m in steps:\n",
    "        m_2 = min(M_2, M-m+1)\n",
    "        \n",
    "        # Initial value for all paths\n",
    "        S = S_0*np.ones((1,m_2))\n",
    "        S2 = S_0*np.ones((1,m_2))\n",
    "        \n",
    "        # Repeatedly move dW steps taken from the normal distribution\n",
    "        for n in range(0, int(N/2)):\n",
    "            dW1 = math.sqrt(h)*np.random.standard_normal(m_2)\n",
    "            S = np.multiply(S, 1 + r*h + sigma*dW1)\n",
    "            dW2 = math.sqrt(h)*np.random.standard_normal(m_2)\n",
    "            S = np.multiply(S, 1 + r*h + sigma*dW2)\n",
    "            \n",
    "            # move up by two steps at a time\n",
    "            S2 = np.multiply(S2, (1 + r*2*h + sigma*(dW1 + dW2)))\n",
    "        \n",
    "        P = np.multiply(math.exp(-r*T), np.maximum(S-K, np.zeros((1,m_2))))\n",
    "        P2 = np.multiply(math.exp(-r*T), np.maximum(S2-K, np.zeros((1,m_2))))\n",
    "        \n",
    "        sub = P - P2\n",
    "        sub_squared = np.multiply(sub,sub)\n",
    "        \n",
    "        sum_1 = sum_1 + np.sum(sub)\n",
    "        sum_2 = sum_2 + np.sum(sub_squared)\n",
    "    \n",
    "    # Error calculations\n",
    "    Vd = abs(sum_1/M)\n",
    "    sd = math.sqrt((sum_2/M - (sum_1/M)**2)/(M-1))\n",
    "    \n",
    "    hh.append(h)\n",
    "    err_1.append(Vd)\n",
    "    err_2.append(3*sd)"
   ]
  },
  {
   "cell_type": "code",
   "execution_count": 9,
   "metadata": {},
   "outputs": [
    {
     "data": {
      "image/png": "[encoded data removed]",
      "text/plain": [
       "<Figure size 432x288 with 1 Axes>"
      ]
     },
     "metadata": {
      "needs_background": "light"
     },
     "output_type": "display_data"
    }
   ],
   "source": [
    "# plotting\n",
    "fig = plt.figure()\n",
    "ax = fig.add_subplot(1,1,1)\n",
    "ax.loglog(hh, err_1, color = 'blue', marker = 'o', label = 'Weak error')\n",
    "ax.loglog(hh, err_2, color = 'red', marker = 'o', label = 'MC error')\n",
    "\n",
    "ax.set_xlabel('h')\n",
    "ax.set_ylabel('Error')\n",
    "ax.set_title('Weak convergence -- difference from 2h approximation')\n",
    "ax.legend(loc = 'upper left')\n",
    "\n",
    "plt.show()"
   ]
  },
  {
   "cell_type": "markdown",
   "metadata": {},
   "source": []
  }
 ],
 "metadata": {
  "kernelspec": {
   "display_name": "Python 3 (ipykernel)",
   "language": "python",
   "name": "python3"
  },
  "language_info": {
   "codemirror_mode": {
    "name": "ipython",
    "version": 3
   },
   "file_extension": ".py",
   "mimetype": "text/x-python",
   "name": "python",
   "nbconvert_exporter": "python",
   "pygments_lexer": "ipython3",
   "version": "3.10.0"
  }
 },
 "nbformat": 4,
 "nbformat_minor": 4
}
