{
 "cells": [
  {
   "cell_type": "code",
   "execution_count": 52,
   "id": "1c553c71",
   "metadata": {},
   "outputs": [],
   "source": [
    "import numpy as np\n",
    "import math\n",
    "import matplotlib.pyplot as plt"
   ]
  },
  {
   "cell_type": "code",
   "execution_count": 53,
   "id": "c608c3c5",
   "metadata": {},
   "outputs": [],
   "source": [
    "#Parameters\n",
    "S0 = 100\n",
    "v0 = 0.25\n",
    "theta = 0.25\n",
    "k = 2\n",
    "xi = 0.5\n",
    "r = 0.05\n",
    "T = 1"
   ]
  },
  {
   "cell_type": "code",
   "execution_count": 54,
   "id": "c2460cd1",
   "metadata": {},
   "outputs": [],
   "source": [
    "# Define steps\n",
    "M = int(1e+5)\n",
    "M2 = int(1e+4)\n",
    "\n",
    "num_steps = int(M/M2)\n",
    "\n",
    "steps = [1 + i*M2 for i in range(0,num_steps + 1)]"
   ]
  },
  {
   "cell_type": "code",
   "execution_count": 55,
   "id": "591c9fac",
   "metadata": {},
   "outputs": [],
   "source": [
    "# Initialize error arrays\n",
    "hh = []\n",
    "err1 = []\n",
    "err2 = []\n",
    "\n",
    "for p in range(1, 8):\n",
    "    N = 2**p\n",
    "    h = T/N\n",
    "    \n",
    "    sum1 = 0\n",
    "    sum2 = 0\n",
    "    \n",
    "    for m in steps:\n",
    "        m2 = min(M2, M-m+1)\n",
    "        \n",
    "        # Initial condition\n",
    "        S = S0*np.ones((1,m2))[0]\n",
    "        S2 = S0*np.ones((1,m2))[0]\n",
    "        v = v0*np.ones((1, m2))[0]\n",
    "        v2 = v0*np.ones((1, m2))[0]\n",
    "        \n",
    "        for n in range(1, int(N/2) + 1):\n",
    "            \n",
    "            # h approximation\n",
    "            dW1 = math.sqrt(h)*np.random.multivariate_normal([0,0], [[1, -0.1], [-0.1, 1]], m2)\n",
    "            v = [v[i] + k*(theta-v[i])*h + xi*math.sqrt(abs(v[i]))*dW1[i][0] for i in range(0, m2)]\n",
    "            S = [S[i] + r*S[i]*h + math.sqrt(abs(v[i]))*S[i]*dW1[i][1] for i in range(0, m2)]\n",
    "            dW2 = math.sqrt(h)*np.random.multivariate_normal([0,0], [[1, -0.1], [-0.1, 1]], m2)\n",
    "            v = [v[i] + k*(theta-v[i])*h + xi*math.sqrt(abs(v[i]))*dW2[i][0] for i in range(0, m2)]\n",
    "            S = [S[i] + r*S[i]*h + math.sqrt(abs(v[i]))*S[i]*dW2[i][1] for i in range(0, m2)]\n",
    "            \n",
    "            # 2h approximation\n",
    "            v2 = [v2[i] + k*(theta-v2[i])*2*h + xi*math.sqrt(abs(v2[i]))*(dW1[i][0]+dW2[i][0]) for i in range(0, m2)]\n",
    "            S2 = [S2[i] + r*S2[i]*2*h + math.sqrt(abs(v2[i]))*S2[i]*(dW1[i][1]+dW2[i][1]) for i in range(0, m2)]\n",
    "            \n",
    "        # Update for error calculations    \n",
    "        delta = [(S2[i] - S[i])**2 for i in range(0,m2)]\n",
    "        sum1 = sum1 + np.sum(delta)\n",
    "        sum2 = sum2 + np.sum([d**2 for d in delta])\n",
    "    \n",
    "    # Append errors and h value to respective arrays\n",
    "    hh.append(h)\n",
    "    \n",
    "    Vd = sum1/M\n",
    "    sd = math.sqrt((sum2/M - (sum1/M)**2)/(M-1))\n",
    "    err1.append(math.sqrt(Vd))\n",
    "    err2.append((0.5/math.sqrt(Vd))*3*sd)"
   ]
  },
  {
   "cell_type": "code",
   "execution_count": 56,
   "id": "776caf84",
   "metadata": {},
   "outputs": [
    {
     "data": {
      "image/png": "[encoded data removed]",
      "text/plain": [
       "<Figure size 432x288 with 1 Axes>"
      ]
     },
     "metadata": {
      "needs_background": "light"
     },
     "output_type": "display_data"
    }
   ],
   "source": [
    "# Plot the difference from h and 2h approximation\n",
    "fig = plt.figure()\n",
    "ax = fig.add_subplot(1,1,1)\n",
    "ax.loglog(hh, err1, color = 'tab:blue', marker = 'o', label = 'Relative Error')\n",
    "ax.loglog(hh, err2, color = 'tab:red', marker = 'o', label = 'MC Error')\n",
    "ax.loglog(hh,33*np.asarray(hh)**(1/2), color = 'tab:green', label = '33*sqrt(h)')\n",
    "ax.legend(loc='upper left')\n",
    "ax.set_xlabel('h')\n",
    "ax.set_ylabel('Error')\n",
    "ax.set_title('Strong convergence -- difference from h and 2h approximation')\n",
    "plt.show()"
   ]
  },
  {
   "cell_type": "markdown",
   "id": "5ae85975",
   "metadata": {},
   "source": [
    "By Kloeden and Platen, the expected order of convergence is 0.5. We can see that this agrees very well with the observed results based on the graph above."
   ]
  },
  {
   "cell_type": "code",
   "execution_count": null,
   "id": "6d6e1b9c",
   "metadata": {},
   "outputs": [],
   "source": []
  }
 ],
 "metadata": {
  "kernelspec": {
   "display_name": "Python 3 (ipykernel)",
   "language": "python",
   "name": "python3"
  },
  "language_info": {
   "codemirror_mode": {
    "name": "ipython",
    "version": 3
   },
   "file_extension": ".py",
   "mimetype": "text/x-python",
   "name": "python",
   "nbconvert_exporter": "python",
   "pygments_lexer": "ipython3",
   "version": "3.10.0"
  }
 },
 "nbformat": 4,
 "nbformat_minor": 5
}
